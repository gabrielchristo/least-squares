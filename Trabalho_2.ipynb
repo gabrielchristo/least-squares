{
  "nbformat": 4,
  "nbformat_minor": 0,
  "metadata": {
    "colab": {
      "name": "Copy of Trabalho 2 Calculo Numérico",
      "provenance": [],
      "collapsed_sections": []
    },
    "kernelspec": {
      "name": "python3",
      "display_name": "Python 3"
    }
  },
  "cells": [
    {
      "cell_type": "markdown",
      "metadata": {
        "id": "UrR1ekX2z0il",
        "colab_type": "text"
      },
      "source": [
        "# Relatório - Trabalho 2 - Cálculo Numérico\n",
        "\n",
        "## Objetivo\n",
        "Dado o problema no enunciado do trabalho, devemos obter uma função phi(x) que aproxime ao máximo a função f(x), dada por um conjunto discreto de pontos.\n",
        "\n",
        "O ajuste por método dos mínimos quadrados consiste, neste problema, em achar as constantes $a,b,c,d$ e $e$ de maneira que $phi(x) = ag_1(x) + bg_2(x) +cg_3(x) + dg_4(x) + eg_5(x)$ se aproxime o máximo possível de $f(x)$\n",
        "\n",
        "Como pedido no enunciado iremos realizar um ajuste polinomial de quarto grau, ou seja:\n",
        "- $g_1(x) = x^4$\n",
        "- $g_2(x) = x^3$\n",
        "- $g_3(x) = x^2$\n",
        "- $g_4(x) = x$\n",
        "- $g_5(x) = 1$\n",
        "\n",
        "## Metodologia\n",
        "\n",
        "Dado um conjunto de pontos de tamanho **m**, devemos montar e resolver o sistema linear $Ax=b$, onde $x$ é o vetor de coeficientes das funções $g_k(x)$ para todo $k$:\n",
        "\n",
        "$A_{k,k} =\n",
        " \\begin{pmatrix}\n",
        "  a_{1,1}*x_1 & a_{1,2}*x_2 & \\cdots & a_{1,k}*x_k \\\\\n",
        "  a_{2,1}*x_1 & a_{2,2}*x_2 & \\cdots & a_{2,k}*x_k \\\\\n",
        "  \\vdots  & \\vdots  & \\ddots & \\vdots  \\\\\n",
        "  a_{k,1}*x_1 & a_{k,2}*x_2 & \\cdots & a_{k,k}*x_k\n",
        " \\end{pmatrix}$\n",
        "\n",
        " onde $a_{i,j} = a_{j,i} = \\sum_{k=1}^{m}g_j(x_k)*g_i(x_k)$\n",
        "\n",
        "e $b_i = \\sum_{k=1}^{m}f(x_k)*g_i(x_k)$\n",
        "\n",
        "\n"
      ]
    },
    {
      "cell_type": "code",
      "metadata": {
        "id": "kok4481i81rz",
        "colab_type": "code",
        "colab": {
          "base_uri": "https://localhost:8080/",
          "height": 435
        },
        "outputId": "81fc6aac-551b-4046-8f37-4c17d41c8613"
      },
      "source": [
        "import numpy as np\n",
        "import matplotlib.pyplot as mpl\n",
        "\n",
        "# conjunto de pontos da primeira montanha\n",
        "x1 = np.array([0, 0.05, 0.075, 0.125, 0.15, 0.225, 0.275, 0.35, 0.4, 0.465, 0.495, 0.5150])\n",
        "y1 = np.array([0, 0.05, 0.1, 0.15, 0.2, 0.25, 0.3, 0.35, 0.396, 0.35, 0.3, 0.25]) \n",
        "\n",
        "# conjunto de pontos da segunda montanha\n",
        "x2 = np.array([0.535, 0.6, 0.7, 0.8, 0.9, 1, 1.1, 1.2, 1.35, 1.4, 1.45, 1.5])\n",
        "y2 = np.array([0.2, 0.15, 0.15, 0.125, 0.15, 0.175, 0.19, 0.22, 0.15, 0.075, 0.025, 0])\n",
        "\n",
        "# diagrama de dispersões\n",
        "mpl.plot(x1,y1,label='montanha 1')\n",
        "mpl.plot(x2,y2,label='montanha 2')\n",
        "\n",
        "# conjunto de pontos total\n",
        "x = np.concatenate((x1,x2))\n",
        "y = np.concatenate((y1,y2))\n",
        "\n",
        "# funções g(x) que definem phi(x)\n",
        "def g(x, index):\n",
        "  if index==1: return pow(x,4)\n",
        "  elif index==2: return pow(x,3)\n",
        "  elif index==3: return pow(x,2)\n",
        "  elif index==4: return x\n",
        "  elif index==5: return 1\n",
        "\n",
        "# montando matriz A\n",
        "A = np.zeros([5,5])\n",
        "for i in range(1,6):\n",
        "  for j in range(1,6):\n",
        "    v = 0\n",
        "    for k in range(len(x)):\n",
        "      v += g(x[k],j)*g(x[k],i) \n",
        "    A[i-1][j-1] = v\n",
        "\n",
        "# montando vetor b\n",
        "b = np.zeros([5,1])\n",
        "for i in range(1,6):\n",
        "  v = 0\n",
        "  for j in range(len(x)):\n",
        "    v += y[j]*g(x[j],i)\n",
        "  b[i-1] = v\n",
        "\n",
        "# resolvendo o sistema Ax=b\n",
        "r = np.linalg.solve(A,b)\n",
        "\n",
        "# comparando resultados com solver do numpy\n",
        "print(\"Coeficientes gerados pelo NumPy:\\n\", np.polyfit(x, y, 4), end='\\n\\n')\n",
        "print(\"Coeficientes gerados pelo sistema criado:\\n\", r, end='\\n\\n')\n",
        "\n",
        "# plotando resultados\n",
        "t = np.arange(0.0, 1.5, 0.01)\n",
        "s = r[0][0]*g(t,1) + r[1][0]*g(t,2) + r[2][0]*g(t,3) + r[3][0]*g(t,4) + r[4][0]\n",
        "mpl.plot(t,s,label='aproximação')\n",
        "mpl.legend(loc=\"upper right\")\n",
        "mpl.show()\n"
      ],
      "execution_count": 1,
      "outputs": [
        {
          "output_type": "stream",
          "text": [
            "Coeficientes gerados pelo NumPy:\n",
            " [-2.16733917  6.9584971  -7.50194721  2.93391794 -0.06343363]\n",
            "\n",
            "Coeficientes gerados pelo sistema criado:\n",
            " [[-2.16733917]\n",
            " [ 6.9584971 ]\n",
            " [-7.50194721]\n",
            " [ 2.93391794]\n",
            " [-0.06343363]]\n",
            "\n"
          ],
          "name": "stdout"
        },
        {
          "output_type": "display_data",
          "data": {
            "image/png": "[encoded data removed]",
            "text/plain": [
              "<Figure size 432x288 with 1 Axes>"
            ]
          },
          "metadata": {
            "tags": [],
            "needs_background": "light"
          }
        }
      ]
    }
  ]
}